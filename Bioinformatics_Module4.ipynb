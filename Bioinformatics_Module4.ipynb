{
  "nbformat": 4,
  "nbformat_minor": 0,
  "metadata": {
    "colab": {
      "provenance": [],
      "authorship_tag": "ABX9TyOAcQ/JTXhPW1DYPD4rCa/H",
      "include_colab_link": true
    },
    "kernelspec": {
      "name": "python3",
      "display_name": "Python 3"
    },
    "language_info": {
      "name": "python"
    }
  },
  "cells": [
    {
      "cell_type": "markdown",
      "metadata": {
        "id": "view-in-github",
        "colab_type": "text"
      },
      "source": [
        "<a href=\"https://colab.research.google.com/github/jphaugh/beginning-informatics/blob/main/Bioinformatics_Module4.ipynb\" target=\"_parent\"><img src=\"https://colab.research.google.com/assets/colab-badge.svg\" alt=\"Open In Colab\"/></a>"
      ]
    },
    {
      "cell_type": "markdown",
      "source": [
        "Rosalind #10"
      ],
      "metadata": {
        "id": "koK0mL0fGWgM"
      }
    },
    {
      "cell_type": "code",
      "execution_count": 1,
      "metadata": {
        "colab": {
          "base_uri": "https://localhost:8080/"
        },
        "id": "KXuoW1xyGQ3r",
        "outputId": "f67df2f5-68e8-48d5-ed1b-ef6ad90f7fd9"
      },
      "outputs": [
        {
          "output_type": "stream",
          "name": "stdout",
          "text": [
            "26\n"
          ]
        }
      ],
      "source": [
        "# Function to count how many times \"Pattern\" occurs in \"Text\"\n",
        "# (including overlapping occurrences)\n",
        "def Count(Text, Pattern):\n",
        "    count = 0\n",
        "    for i in range(len(Text) - len(Pattern) + 1):\n",
        "        if Text[i : i + len(Pattern)] == Pattern:\n",
        "            count += 1\n",
        "    return count\n",
        "\n",
        "\n",
        "# ===============================\n",
        "# Reading input from a file in Colab\n",
        "# ===============================\n",
        "\n",
        "# Replace \"rosalind_subs.txt\" with the name of your uploaded file\n",
        "filename = \"/content/rosalind_ba1a.txt\"\n",
        "\n",
        "# Read the file\n",
        "with open(filename, 'r') as f:\n",
        "    lines = f.read().splitlines()\n",
        "\n",
        "# First line = Text, second line = Pattern\n",
        "Text = lines[0].strip()\n",
        "Pattern = lines[1].strip()\n",
        "\n",
        "# Run the function and print the result\n",
        "print(Count(Text, Pattern))\n"
      ]
    },
    {
      "cell_type": "markdown",
      "source": [
        "Rosalind #11"
      ],
      "metadata": {
        "id": "8f_KHzbmHsoZ"
      }
    },
    {
      "cell_type": "code",
      "source": [
        "# Function to find the most frequent k-mers in a DNA string\n",
        "def FrequentKmers(Text, k):\n",
        "    # Dictionary to count how many times each k-mer appears\n",
        "    counts = {}\n",
        "\n",
        "    # Loop through all possible substrings of length k\n",
        "    for i in range(len(Text) - k + 1):\n",
        "        kmer = Text[i : i + k]\n",
        "        counts[kmer] = counts.get(kmer, 0) + 1\n",
        "\n",
        "    # Find the maximum frequency\n",
        "    max_count = max(counts.values())\n",
        "\n",
        "    # Collect all k-mers with the maximum frequency\n",
        "    most_frequent = [kmer for kmer, cnt in counts.items() if cnt == max_count]\n",
        "\n",
        "    return most_frequent\n",
        "\n",
        "\n",
        "# ===============================\n",
        "# Reading input from a file in Colab\n",
        "# ===============================\n",
        "\n",
        "# Replace with your uploaded file name (e.g., \"rosalind_ba1b.txt\")\n",
        "filename = \"/content/rosalind_ba1b.txt\"\n",
        "\n",
        "# Read the file\n",
        "with open(filename, 'r') as f:\n",
        "    lines = f.read().splitlines()\n",
        "\n",
        "# First line = Text (DNA string), second line = k (integer)\n",
        "Text = lines[0].strip()\n",
        "k = int(lines[1].strip())\n",
        "\n",
        "# Run the function and print the result\n",
        "result = FrequentKmers(Text, k)\n",
        "\n",
        "# Print all most frequent k-mers separated by spaces (as Rosalind expects)\n",
        "print(\" \".join(result))\n"
      ],
      "metadata": {
        "colab": {
          "base_uri": "https://localhost:8080/"
        },
        "id": "72vkZZoBHvYq",
        "outputId": "a142c4e2-7c3e-472c-baa7-0bf14c9cc313"
      },
      "execution_count": 2,
      "outputs": [
        {
          "output_type": "stream",
          "name": "stdout",
          "text": [
            "CGGCTGCTCCG\n"
          ]
        }
      ]
    },
    {
      "cell_type": "markdown",
      "source": [
        "Rosalind #12"
      ],
      "metadata": {
        "id": "AmFIgn3DIRok"
      }
    },
    {
      "cell_type": "code",
      "source": [
        "# Function to find all (L, t)-clumps in a genome\n",
        "def ClumpFinding(Genome, k, L, t):\n",
        "    clumps = set()  # to store distinct k-mers that form clumps\n",
        "\n",
        "    # Loop through all windows of length L in Genome\n",
        "    for i in range(len(Genome) - L + 1):\n",
        "        window = Genome[i : i + L]  # substring of length L\n",
        "\n",
        "        # Count k-mers in this window\n",
        "        counts = {}\n",
        "        for j in range(L - k + 1):\n",
        "            kmer = window[j : j + k]\n",
        "            counts[kmer] = counts.get(kmer, 0) + 1\n",
        "\n",
        "        # Any k-mer that appears at least t times in this window is a clump\n",
        "        for kmer, cnt in counts.items():\n",
        "            if cnt >= t:\n",
        "                clumps.add(kmer)\n",
        "\n",
        "    return sorted(clumps)  # sorted for consistent output\n",
        "\n",
        "\n",
        "# ===============================\n",
        "# Reading input from a file in Colab\n",
        "# ===============================\n",
        "\n",
        "# Replace with your uploaded file name (e.g., \"rosalind_ba1e.txt\")\n",
        "filename = \"/content/rosalind_ba1e.txt\"\n",
        "\n",
        "# Read the file\n",
        "with open(filename, 'r') as f:\n",
        "    lines = f.read().splitlines()\n",
        "\n",
        "# First line = Genome (DNA string)\n",
        "Genome = lines[0].strip()\n",
        "\n",
        "# Second line = k, L, t (space-separated integers)\n",
        "k, L, t = map(int, lines[1].strip().split())\n",
        "\n",
        "# Run the function\n",
        "result = ClumpFinding(Genome, k, L, t)\n",
        "\n",
        "# Print all clump-forming k-mers separated by spaces (as Rosalind expects)\n",
        "print(\" \".join(result))\n"
      ],
      "metadata": {
        "colab": {
          "base_uri": "https://localhost:8080/"
        },
        "id": "1w07iEiSIStn",
        "outputId": "fc96a2dd-2bc5-42e6-9b0b-3b0f0046a65e"
      },
      "execution_count": 3,
      "outputs": [
        {
          "output_type": "stream",
          "name": "stdout",
          "text": [
            "AGCCCACGGTA AGCGTCTTCCG GAGCTTATTAG GCACTCGCGTC TGTACGTTATA\n"
          ]
        }
      ]
    },
    {
      "cell_type": "markdown",
      "source": [
        "Rosalind #13"
      ],
      "metadata": {
        "id": "uC6dG5XLIqrL"
      }
    },
    {
      "cell_type": "code",
      "source": [
        "# Function to compute skew values for a genome\n",
        "def SkewArray(Genome):\n",
        "    skew = [0]  # skew[0] = 0 by definition\n",
        "    for base in Genome:\n",
        "        if base == \"G\":\n",
        "            skew.append(skew[-1] + 1)\n",
        "        elif base == \"C\":\n",
        "            skew.append(skew[-1] - 1)\n",
        "        else:\n",
        "            skew.append(skew[-1])  # A or T don't change skew\n",
        "    return skew\n",
        "\n",
        "\n",
        "# Function to find all positions minimizing skew\n",
        "def MinimumSkew(Genome):\n",
        "    skew = SkewArray(Genome)\n",
        "    min_skew = min(skew)\n",
        "    positions = [i for i, val in enumerate(skew) if val == min_skew]\n",
        "    return positions\n",
        "\n",
        "\n",
        "# ===============================\n",
        "# Reading input from a file in Colab\n",
        "# ===============================\n",
        "\n",
        "# Replace with your uploaded file name (e.g., \"rosalind_ba1f.txt\")\n",
        "filename = \"/content/rosalind_ba1f.txt\"\n",
        "\n",
        "# Read the file\n",
        "with open(filename, 'r') as f:\n",
        "    Genome = f.read().strip()\n",
        "\n",
        "# Run the function\n",
        "result = MinimumSkew(Genome)\n",
        "\n",
        "# Print all positions separated by spaces (as Rosalind expects)\n",
        "print(\" \".join(map(str, result)))\n"
      ],
      "metadata": {
        "colab": {
          "base_uri": "https://localhost:8080/"
        },
        "id": "kEk4Aqh8Irw8",
        "outputId": "951929a7-c1ec-4cc8-b630-5dbc6f083920"
      },
      "execution_count": 4,
      "outputs": [
        {
          "output_type": "stream",
          "name": "stdout",
          "text": [
            "34074\n"
          ]
        }
      ]
    },
    {
      "cell_type": "markdown",
      "source": [
        "Rosalind #14"
      ],
      "metadata": {
        "id": "60dmYbbsJBmH"
      }
    },
    {
      "cell_type": "code",
      "source": [
        "# Function to compute the Hamming distance between two equal-length strings\n",
        "def HammingDistance(s1, s2):\n",
        "    # Count mismatches at each position\n",
        "    return sum(1 for a, b in zip(s1, s2) if a != b)\n",
        "\n",
        "\n",
        "# ===============================\n",
        "# Reading input from a file in Colab\n",
        "# ===============================\n",
        "\n",
        "# Replace with your uploaded file name (e.g., \"rosalind_hamm.txt\")\n",
        "filename = \"/content/rosalind_ba1g.txt\"\n",
        "\n",
        "# Read the file\n",
        "with open(filename, 'r') as f:\n",
        "    lines = f.read().splitlines()\n",
        "\n",
        "# First line = DNA string 1, second line = DNA string 2\n",
        "s1 = lines[0].strip()\n",
        "s2 = lines[1].strip()\n",
        "\n",
        "# Run the function\n",
        "result = HammingDistance(s1, s2)\n",
        "\n",
        "# Print the result (just the integer, as Rosalind expects)\n",
        "print(result)\n"
      ],
      "metadata": {
        "colab": {
          "base_uri": "https://localhost:8080/"
        },
        "id": "PYdqswtdJC1W",
        "outputId": "dbce8143-c753-4789-ab2b-079b1f1f55d4"
      },
      "execution_count": 5,
      "outputs": [
        {
          "output_type": "stream",
          "name": "stdout",
          "text": [
            "867\n"
          ]
        }
      ]
    },
    {
      "cell_type": "markdown",
      "source": [
        "Rosalind #15"
      ],
      "metadata": {
        "id": "TKJarD1QJgpF"
      }
    },
    {
      "cell_type": "code",
      "source": [
        "from itertools import combinations, product\n",
        "\n",
        "# Original sequence and max number of mutations\n",
        "original_seq = \"TTGCGAAC\"\n",
        "max_mutations = 2\n",
        "bases = ['A', 'C', 'G', 'T']\n",
        "\n",
        "def generate_mutations(seq, max_mut):\n",
        "    mutated_seqs = set()\n",
        "    seq_len = len(seq)\n",
        "\n",
        "    for n_mut in range(1, max_mut + 1):\n",
        "        # All combinations of positions to mutate\n",
        "        for positions in combinations(range(seq_len), n_mut):\n",
        "            # All possible substitutions at these positions\n",
        "            for substitutions in product(bases, repeat=n_mut):\n",
        "                # Skip if substitution is same as original base\n",
        "                if all(seq[pos] != sub for pos, sub in zip(positions, substitutions)):\n",
        "                    seq_list = list(seq)\n",
        "                    for pos, sub in zip(positions, substitutions):\n",
        "                        seq_list[pos] = sub\n",
        "                    mutated_seqs.add(\"\".join(seq_list))\n",
        "\n",
        "    return mutated_seqs\n",
        "\n",
        "mutated_sequences = generate_mutations(original_seq, max_mutations)\n",
        "\n",
        "# Print each sequence on its own line\n",
        "for seq in mutated_sequences:\n",
        "    print(seq)\n"
      ],
      "metadata": {
        "colab": {
          "base_uri": "https://localhost:8080/"
        },
        "id": "TRXUgDPfJh6U",
        "outputId": "0cac39e7-f145-4f78-eb0e-4ea746b1df70"
      },
      "execution_count": 12,
      "outputs": [
        {
          "output_type": "stream",
          "name": "stdout",
          "text": [
            "TTGAAAAC\n",
            "TTGCGACG\n",
            "TTGCTAAA\n",
            "TTGCTAAT\n",
            "TTGCGGAC\n",
            "ATTCGAAC\n",
            "TTTCGAAC\n",
            "TTCCAAAC\n",
            "TAGGGAAC\n",
            "TTACGAAT\n",
            "TGTCGAAC\n",
            "TCGCGTAC\n",
            "AGGCGAAC\n",
            "TTGAGAAC\n",
            "GTGCGACC\n",
            "TAGCGAAT\n",
            "TCGCGAAT\n",
            "TAACGAAC\n",
            "TTTCAAAC\n",
            "GTGCGATC\n",
            "TAGCGAAG\n",
            "TTGCTAGC\n",
            "GTCCGAAC\n",
            "TTCGGAAC\n",
            "ATGCGAAG\n",
            "TTGACAAC\n",
            "TTGCCAAT\n",
            "TTATGAAC\n",
            "TGGCCAAC\n",
            "GTGGGAAC\n",
            "TTTGGAAC\n",
            "TGGCGTAC\n",
            "TAGTGAAC\n",
            "TTCCGAGC\n",
            "TTGCGATG\n",
            "TAGCGAAA\n",
            "TTACTAAC\n",
            "TGGCGAAG\n",
            "CTGCGGAC\n",
            "ATGCCAAC\n",
            "TGGCGAAC\n",
            "TTGGGATC\n",
            "TTTCGAAA\n",
            "GTGCGAGC\n",
            "TTGCGCAT\n",
            "CTCCGAAC\n",
            "TGGCGATC\n",
            "GTGCGGAC\n",
            "TTACGCAC\n",
            "TTCCGGAC\n",
            "TTGCGTGC\n",
            "TTTCGTAC\n",
            "ATGGGAAC\n",
            "TTGAGAAG\n",
            "ATGCGGAC\n",
            "GTGCCAAC\n",
            "TTTCGCAC\n",
            "TCGCGGAC\n",
            "CTGCGAAA\n",
            "TTGGGCAC\n",
            "TTGCCAAG\n",
            "TTGGCAAC\n",
            "GCGCGAAC\n",
            "TTGTGAAC\n",
            "TGGTGAAC\n",
            "TTGCGGTC\n",
            "TTCCGAAG\n",
            "TTGTGAGC\n",
            "TTGCGTAA\n",
            "TTGGGAAT\n",
            "TTGCCTAC\n",
            "TGGCGCAC\n",
            "TTGTTAAC\n",
            "GGGCGAAC\n",
            "TTGGGAGC\n",
            "TGGAGAAC\n",
            "TAGCGACC\n",
            "ATACGAAC\n",
            "CTGTGAAC\n",
            "TTGCGAAT\n",
            "TTGCTTAC\n",
            "TCGCGATC\n",
            "CTGCGCAC\n",
            "CTGGGAAC\n",
            "TTGTGAAG\n",
            "GTGCGAAG\n",
            "TTGAGCAC\n",
            "TTACGAAA\n",
            "GTGCGAAC\n",
            "TTACCAAC\n",
            "TTAAGAAC\n",
            "ATGCTAAC\n",
            "TTGCGCAG\n",
            "ATCCGAAC\n",
            "GTGCGAAT\n",
            "TCGCGAGC\n",
            "TTAGGAAC\n",
            "TTGCGAGG\n",
            "TCGCAAAC\n",
            "TGGCGAGC\n",
            "TGGCGACC\n",
            "ATGAGAAC\n",
            "TTGCGACC\n",
            "CTTCGAAC\n",
            "TGGCAAAC\n",
            "TGCCGAAC\n",
            "TTGGAAAC\n",
            "TTGCCATC\n",
            "TTGCGGAG\n",
            "TTACGGAC\n",
            "TTGGTAAC\n",
            "TTCTGAAC\n",
            "CCGCGAAC\n",
            "TAGCGAAC\n",
            "TTGCGTAC\n",
            "TACCGAAC\n",
            "TCCCGAAC\n",
            "TTACGACC\n",
            "TTGAGGAC\n",
            "TTGCGAGC\n",
            "TTTCGGAC\n",
            "TTGCGATA\n",
            "TTGCAAAC\n",
            "TAGCGCAC\n",
            "TTCCGAAT\n",
            "GTGCGTAC\n",
            "CTGCGACC\n",
            "TTGCGACA\n",
            "CGGCGAAC\n",
            "TTTAGAAC\n",
            "ATGCGAAT\n",
            "CTGAGAAC\n",
            "TTGCACAC\n",
            "TTGCGTCC\n",
            "GTGCTAAC\n",
            "TAGCCAAC\n",
            "TAGCGAGC\n",
            "TCACGAAC\n",
            "TTTCTAAC\n",
            "TTGCAGAC\n",
            "TAGAGAAC\n",
            "TTGCAAGC\n",
            "TTCCGAAC\n",
            "TTACGAGC\n",
            "TTGCGGCC\n",
            "TTGGGAAC\n",
            "TTGCAAAT\n",
            "ATGCGACC\n",
            "AAGCGAAC\n",
            "TTGAGATC\n",
            "TTTCCAAC\n",
            "TTGTGGAC\n",
            "TTGCTACC\n",
            "TTGATAAC\n",
            "CTGCGAAG\n",
            "ATGTGAAC\n",
            "TGGCGAAA\n",
            "TTGCGCCC\n",
            "TTGCGCAA\n",
            "TTGGGTAC\n",
            "TTGTCAAC\n",
            "TTGCGAAA\n",
            "TGGCTAAC\n",
            "TTGCAAAA\n",
            "TTGCGGGC\n",
            "TTGCGATT\n",
            "TTTCGAAT\n",
            "TTGCTCAC\n",
            "CTGCCAAC\n",
            "TTACGTAC\n",
            "GTTCGAAC\n",
            "TCGCGAAG\n",
            "TTCCGACC\n",
            "TTGGGAAA\n",
            "TTGAGAGC\n",
            "TTGCGGAA\n",
            "TAGCGATC\n",
            "TTGCATAC\n",
            "GTGCGCAC\n",
            "TAGCGTAC\n",
            "ATGCAAAC\n",
            "TTGTGACC\n",
            "CTGCGTAC\n",
            "TTTCGAGC\n",
            "TTGCGCGC\n",
            "TTACGAAC\n",
            "ATGCGCAC\n",
            "TCGAGAAC\n",
            "TCGCGAAA\n",
            "TTGCCGAC\n",
            "TTGCTATC\n",
            "TTGGGGAC\n",
            "ATGCGAAC\n",
            "TTGTGAAA\n",
            "CTGCGAAT\n",
            "TCGCGACC\n",
            "GTACGAAC\n",
            "TTGTGCAC\n",
            "TTCCGTAC\n",
            "TTGCCACC\n",
            "TTGCTAAG\n",
            "TTGCGACT\n",
            "TTGTGTAC\n",
            "TTGCTGAC\n",
            "TCGGGAAC\n",
            "TTGCAATC\n",
            "TTGCGTAT\n",
            "TTGCGCTC\n",
            "CTGCGAGC\n",
            "TTTTGAAC\n",
            "CTGCGAAC\n",
            "CTGCTAAC\n",
            "TTGAGAAA\n",
            "GTGCAAAC\n",
            "TGACGAAC\n",
            "TAGCGGAC\n",
            "TTTCGAAG\n",
            "TCGCTAAC\n",
            "TTGCGTTC\n",
            "TTACGATC\n",
            "TTCCGAAA\n",
            "TGGGGAAC\n",
            "TCGTGAAC\n",
            "TTGCAACC\n",
            "ATGCGATC\n",
            "CTACGAAC\n",
            "TTGCTAAC\n",
            "TTGAGTAC\n",
            "TTCAGAAC\n",
            "TTCCGATC\n",
            "GTGTGAAC\n",
            "TTGCGAGA\n",
            "TTGCAAAG\n",
            "TTGCGAAG\n",
            "TTGCCAAC\n",
            "TCTCGAAC\n",
            "TAGCTAAC\n",
            "TTGAGACC\n",
            "TGGCGGAC\n",
            "GAGCGAAC\n",
            "TTGCCAAA\n",
            "CTGCAAAC\n",
            "TTCCCAAC\n",
            "TAGCAAAC\n",
            "CAGCGAAC\n",
            "TGGCGAAT\n",
            "TTGGGACC\n",
            "TTGTGATC\n",
            "TTACAAAC\n",
            "TTCCGCAC\n",
            "TTTCGATC\n",
            "ATGCGTAC\n",
            "TTCCTAAC\n",
            "TTGCGTAG\n",
            "TTGCGATC\n",
            "TTGAGAAT\n",
            "TCGCGCAC\n",
            "GTGCGAAA\n",
            "TTGCGAGT\n",
            "ACGCGAAC\n",
            "ATGCGAGC\n",
            "TTACGAAG\n",
            "ATGCGAAA\n",
            "TTGTAAAC\n",
            "TTGGGAAG\n",
            "CTGCGATC\n",
            "TTGCGCAC\n",
            "TTTCGACC\n",
            "TTGCCCAC\n",
            "TTGCCAGC\n",
            "TTGCGGAT\n",
            "TCGCGAAC\n",
            "TCGCCAAC\n",
            "TATCGAAC\n",
            "TTGTGAAT\n",
            "GTGAGAAC\n"
          ]
        }
      ]
    },
    {
      "cell_type": "markdown",
      "source": [
        "Rosalind #16"
      ],
      "metadata": {
        "id": "FPO3u2u3OicP"
      }
    },
    {
      "cell_type": "code",
      "source": [
        "# Function to compute Hamming distance\n",
        "def hamming_distance(s1, s2):\n",
        "    return sum(ch1 != ch2 for ch1, ch2 in zip(s1, s2))\n",
        "\n",
        "# Function to find approximate pattern matches\n",
        "def approximate_pattern_matching(pattern, text, d):\n",
        "    positions = []\n",
        "    pattern_len = len(pattern)\n",
        "    for i in range(len(text) - pattern_len + 1):\n",
        "        substring = text[i:i+pattern_len]\n",
        "        if hamming_distance(pattern, substring) <= d:\n",
        "            positions.append(i)\n",
        "    return positions\n",
        "\n",
        "# --- Colab input: upload file to /content first ---\n",
        "filename = \"/content/rosalind_ba1h.txt\"  # change to your file name\n",
        "\n",
        "# Read file\n",
        "with open(filename) as f:\n",
        "    lines = [line.strip() for line in f.readlines() if line.strip()]\n",
        "\n",
        "pattern = lines[0]\n",
        "text = lines[1]\n",
        "d = int(lines[2])\n",
        "\n",
        "# Find positions\n",
        "positions = approximate_pattern_matching(pattern, text, d)\n",
        "\n",
        "# Print results as a box (all positions on one line)\n",
        "print(\" \".join(map(str, positions)))\n"
      ],
      "metadata": {
        "colab": {
          "base_uri": "https://localhost:8080/"
        },
        "id": "NRHhupodOjXF",
        "outputId": "b937c05b-f293-4070-8127-c144c5618f46"
      },
      "execution_count": 13,
      "outputs": [
        {
          "output_type": "stream",
          "name": "stdout",
          "text": [
            "1152 1318 2550 2594 3079 3223 3473 3761 4461 5573 5605 6112 6258 7240 7360 9204 9684 9760 9768 10668 11061 11077 11179 11410 11651 11976 12029 13046 13108 13233 13424 14680 15864 16272 16401 16982 17119 17529\n"
          ]
        }
      ]
    },
    {
      "cell_type": "markdown",
      "source": [
        "Rosalind #17"
      ],
      "metadata": {
        "id": "bc1gM-NHPClC"
      }
    },
    {
      "cell_type": "code",
      "source": [
        "from itertools import product\n",
        "\n",
        "# Hamming distance\n",
        "def hamming_distance(s1, s2):\n",
        "    return sum(ch1 != ch2 for ch1, ch2 in zip(s1, s2))\n",
        "\n",
        "# Generate neighbors within d mismatches\n",
        "def neighbors(pattern, d):\n",
        "    if d == 0:\n",
        "        return {pattern}\n",
        "    if len(pattern) == 1:\n",
        "        return {'A', 'C', 'G', 'T'}\n",
        "    neighborhood = set()\n",
        "    suffix_neighbors = neighbors(pattern[1:], d)\n",
        "    for text in suffix_neighbors:\n",
        "        if hamming_distance(pattern[1:], text) < d:\n",
        "            for nucleotide in 'ACGT':\n",
        "                neighborhood.add(nucleotide + text)\n",
        "        else:\n",
        "            neighborhood.add(pattern[0] + text)\n",
        "    return neighborhood\n",
        "\n",
        "# Count frequencies\n",
        "def frequent_kmers_with_mismatches(text, k, d):\n",
        "    counts = {}\n",
        "    n = len(text)\n",
        "    for i in range(n - k + 1):\n",
        "        pattern = text[i:i+k]\n",
        "        for approx in neighbors(pattern, d):\n",
        "            counts[approx] = counts.get(approx, 0) + 1\n",
        "    max_count = max(counts.values())\n",
        "    return sorted([kmer for kmer, v in counts.items() if v == max_count])\n",
        "\n",
        "# --- Colab input ---\n",
        "filename = \"/content/rosalind_ba1i.txt\"  # change if needed\n",
        "\n",
        "with open(filename) as f:\n",
        "    lines = [line.strip() for line in f if line.strip() != \"\"]\n",
        "\n",
        "# Parse text and parameters\n",
        "text = lines[0]\n",
        "if len(lines) > 1:\n",
        "    k, d = map(int, lines[1].split())\n",
        "else:\n",
        "    # All on one line\n",
        "    parts = text.split()\n",
        "    text = parts[0]\n",
        "    k = int(parts[1])\n",
        "    d = int(parts[2])\n",
        "\n",
        "# Compute result\n",
        "result = frequent_kmers_with_mismatches(text, k, d)\n",
        "\n",
        "# Print\n",
        "print(\" \".join(result))\n"
      ],
      "metadata": {
        "colab": {
          "base_uri": "https://localhost:8080/"
        },
        "id": "rQitXBibP2lZ",
        "outputId": "bfdd8a9a-8797-452c-9ad9-78f0d258d214"
      },
      "execution_count": 16,
      "outputs": [
        {
          "output_type": "stream",
          "name": "stdout",
          "text": [
            "AGCCTGG\n"
          ]
        }
      ]
    },
    {
      "cell_type": "markdown",
      "source": [
        "Rosalind #18"
      ],
      "metadata": {
        "id": "vRon4ZIuP_3f"
      }
    },
    {
      "cell_type": "code",
      "source": [
        "from itertools import product\n",
        "from collections import defaultdict\n",
        "\n",
        "# Hamming distance\n",
        "def hamming_distance(s1, s2):\n",
        "    return sum(ch1 != ch2 for ch1, ch2 in zip(s1, s2))\n",
        "\n",
        "# Generate neighbors within d mismatches\n",
        "def neighbors(pattern, d):\n",
        "    if d == 0:\n",
        "        return {pattern}\n",
        "    if len(pattern) == 1:\n",
        "        return {'A','C','G','T'}\n",
        "    neighborhood = set()\n",
        "    suffix_neighbors = neighbors(pattern[1:], d)\n",
        "    for text in suffix_neighbors:\n",
        "        if hamming_distance(pattern[1:], text) < d:\n",
        "            for nucleotide in 'ACGT':\n",
        "                neighborhood.add(nucleotide + text)\n",
        "        else:\n",
        "            neighborhood.add(pattern[0] + text)\n",
        "    return neighborhood\n",
        "\n",
        "# Reverse complement\n",
        "def reverse_complement(seq):\n",
        "    complement = {'A':'T', 'T':'A', 'C':'G', 'G':'C'}\n",
        "    return ''.join(complement[nuc] for nuc in reversed(seq))\n",
        "\n",
        "# Count all k-mers with mismatches and reverse complements\n",
        "def frequent_kmers_with_mismatches_and_rc(text, k, d):\n",
        "    counts = defaultdict(int)\n",
        "    for i in range(len(text) - k + 1):\n",
        "        pattern = text[i:i+k]\n",
        "        for neighbor in neighbors(pattern, d):\n",
        "            counts[neighbor] += 1\n",
        "            counts[reverse_complement(neighbor)] += 1\n",
        "    max_count = max(counts.values())\n",
        "    return sorted([kmer for kmer, count in counts.items() if count == max_count])\n",
        "\n",
        "# -----------------------------\n",
        "# Colab input: specify filename in /content/\n",
        "filename = \"/content/rosalind_ba1j (2).txt\"  # <-- replace with your file path\n",
        "\n",
        "# Read file\n",
        "with open(filename) as f:\n",
        "    lines = [line.strip() for line in f if line.strip()]\n",
        "\n",
        "text = lines[0]\n",
        "k, d = map(int, lines[1].split())\n",
        "\n",
        "# Compute result\n",
        "result = frequent_kmers_with_mismatches_and_rc(text, k, d)\n",
        "\n",
        "# Print output as space-separated text\n",
        "print(\" \".join(result))\n"
      ],
      "metadata": {
        "colab": {
          "base_uri": "https://localhost:8080/"
        },
        "id": "yU8_zZwgRb--",
        "outputId": "9a4ed847-42bb-4848-bd22-d3434715d411"
      },
      "execution_count": 20,
      "outputs": [
        {
          "output_type": "stream",
          "name": "stdout",
          "text": [
            "AAAGA TCTTT\n"
          ]
        }
      ]
    }
  ]
}