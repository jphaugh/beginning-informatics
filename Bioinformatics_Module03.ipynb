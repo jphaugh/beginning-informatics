{
  "nbformat": 4,
  "nbformat_minor": 0,
  "metadata": {
    "colab": {
      "provenance": [],
      "collapsed_sections": [
        "jYlnA2Z2FhoW",
        "qRj8vCvXG-1k",
        "s7deJQCHHwOa",
        "GtjxkNHWN5Xo",
        "i4Fo-ddSKWwy",
        "iupO8iI-ZYAe"
      ],
      "include_colab_link": true
    },
    "kernelspec": {
      "name": "python3",
      "display_name": "Python 3"
    },
    "language_info": {
      "name": "python"
    }
  },
  "cells": [
    {
      "cell_type": "markdown",
      "metadata": {
        "id": "view-in-github",
        "colab_type": "text"
      },
      "source": [
        "<a href=\"https://colab.research.google.com/github/jphaugh/beginning-informatics/blob/main/Bioinformatics_Module03.ipynb\" target=\"_parent\"><img src=\"https://colab.research.google.com/assets/colab-badge.svg\" alt=\"Open In Colab\"/></a>"
      ]
    },
    {
      "cell_type": "markdown",
      "source": [
        "# **<font color=blue>P1.** </font>Rename this notebook **Bioinformatics_Module03.ipynb </font><br>**"
      ],
      "metadata": {
        "id": "l3h89jAYBUzz"
      }
    },
    {
      "cell_type": "markdown",
      "source": [
        "# **<font color=blue>P2. </font>**```print()```writes to standard output (i.e. prints output to the screen)"
      ],
      "metadata": {
        "id": "jYlnA2Z2FhoW"
      }
    },
    {
      "cell_type": "markdown",
      "source": [
        "####**TASK P2.1:** Print <font color = magenta>hello world</font>"
      ],
      "metadata": {
        "id": "r118fqQodA9x"
      }
    },
    {
      "cell_type": "code",
      "source": [
        "print(\"hello world\")"
      ],
      "metadata": {
        "id": "kvxK8D5uFx_x"
      },
      "execution_count": null,
      "outputs": []
    },
    {
      "cell_type": "markdown",
      "source": [
        "# **<font color=blue>P3. </font>**```=``` is the ASSIGNMENT operator (assigns values to variables)\n",
        "####**TASK P3.1:** Ask Gemini, \"*Give me 3 examples to help practice understanding the assignment operator.*\""
      ],
      "metadata": {
        "id": "qRj8vCvXG-1k"
      }
    },
    {
      "cell_type": "code",
      "source": [
        "x=5\n",
        "x"
      ],
      "metadata": {
        "id": "VB8HPNe7JpuJ"
      },
      "execution_count": null,
      "outputs": []
    },
    {
      "cell_type": "markdown",
      "source": [
        "# **<font color=blue>P4. </font>** Data types: use ```type()``` to find a variable's \"type\"\n",
        "####**TASK P4.1:** Ask Gemini, \"*Give me examples of each data type to see how they look as outputs.*\""
      ],
      "metadata": {
        "id": "s7deJQCHHwOa"
      }
    },
    {
      "cell_type": "code",
      "source": [
        "type(x)"
      ],
      "metadata": {
        "colab": {
          "base_uri": "https://localhost:8080/"
        },
        "id": "ktR75uWIJ0uc",
        "outputId": "3a13d830-94ae-49a8-8f1f-16d97cd46292"
      },
      "execution_count": null,
      "outputs": [
        {
          "output_type": "execute_result",
          "data": {
            "text/plain": [
              "int"
            ]
          },
          "metadata": {},
          "execution_count": 20
        }
      ]
    },
    {
      "cell_type": "markdown",
      "source": [
        "# **<font color=blue>P5. </font>** Arithmetic and comparison operators\n",
        "####**TASK P5.1:**   Complete Rosalind #1"
      ],
      "metadata": {
        "id": "GtjxkNHWN5Xo"
      }
    },
    {
      "cell_type": "code",
      "source": [
        "y=2+3\n",
        "print(y)\n",
        "x==y"
      ],
      "metadata": {
        "id": "45s9c4vyQm2U"
      },
      "execution_count": null,
      "outputs": []
    },
    {
      "cell_type": "markdown",
      "source": [
        "# **<font color=blue>P6. </font>** ```input()``` gets input from the user"
      ],
      "metadata": {
        "id": "3yswDberkE7N"
      }
    },
    {
      "cell_type": "markdown",
      "source": [
        "TASK P6.1"
      ],
      "metadata": {
        "id": "z97rSY9gqdad"
      }
    },
    {
      "cell_type": "code",
      "metadata": {
        "colab": {
          "base_uri": "https://localhost:8080/"
        },
        "id": "d91046dd",
        "outputId": "23652910-ca3c-464d-992c-cef973f0bab7"
      },
      "source": [
        "name = input(\"Enter your name: \")\n",
        "print(\"Hello, \" + name)"
      ],
      "execution_count": null,
      "outputs": [
        {
          "output_type": "stream",
          "name": "stdout",
          "text": [
            "Enter your name: Jimmy\n",
            "Hello, Jimmy\n"
          ]
        }
      ]
    },
    {
      "cell_type": "markdown",
      "source": [
        "####**TASK P6.1:** Solve Rosalind #1 again, but get user input for the values of a and b rather than modifying the code."
      ],
      "metadata": {
        "id": "e3LaAQeLRmE6"
      }
    },
    {
      "cell_type": "code",
      "source": [
        "a= int(input(\"enter a value for a:\"))\n",
        "b= int(input(\"enter a value for b:\"))\n",
        "c=a**2+b**2\n",
        "print (\"The sq of the hypotenuse is\",c)"
      ],
      "metadata": {
        "id": "wZ0XL0L6Rq2H",
        "colab": {
          "base_uri": "https://localhost:8080/"
        },
        "outputId": "68b53abf-5dbb-4a03-ad75-9c3f3acf414e"
      },
      "execution_count": null,
      "outputs": [
        {
          "output_type": "stream",
          "name": "stdout",
          "text": [
            "enter a value for a:957\n",
            "enter a value for b:871\n",
            "The sq of the hypotenuse is 1674490\n"
          ]
        }
      ]
    },
    {
      "cell_type": "markdown",
      "source": [
        "# **<font color=blue>P7. </font>** ```list``` type variables (create, replace, append)"
      ],
      "metadata": {
        "id": "4IM-9eAGkPdi"
      }
    },
    {
      "cell_type": "markdown",
      "source": [
        "####**TASK P7.1**"
      ],
      "metadata": {
        "id": "DhNGdYK6NEpe"
      }
    },
    {
      "cell_type": "code",
      "source": [
        "# Create a list with 3 elements and then print them\n",
        "\n",
        "my_list = [\"Hello\", \"World\", \"Charles Darwin\"]\n",
        "print (my_list[1])"
      ],
      "metadata": {
        "id": "N3VRRQIEkXuP",
        "colab": {
          "base_uri": "https://localhost:8080/"
        },
        "outputId": "45879e4a-6572-49ec-f637-76e04f183286"
      },
      "execution_count": null,
      "outputs": [
        {
          "output_type": "stream",
          "name": "stdout",
          "text": [
            "World\n"
          ]
        }
      ]
    },
    {
      "cell_type": "markdown",
      "source": [
        "####**TASK P7.2**"
      ],
      "metadata": {
        "id": "Yn3bAoi8NKy5"
      }
    },
    {
      "cell_type": "code",
      "source": [
        "# Substitute the item at index 2 in the list\n",
        "my_list[2] = \"Alfred R. Wallace\"\n",
        "print (my_list)"
      ],
      "metadata": {
        "id": "WNnsUuduOKbI",
        "colab": {
          "base_uri": "https://localhost:8080/"
        },
        "outputId": "e7d0d256-d635-4e2a-fdd7-a43da05a9df9"
      },
      "execution_count": null,
      "outputs": [
        {
          "output_type": "stream",
          "name": "stdout",
          "text": [
            "['Hello', 'World', 'Alfred R. Wallace']\n"
          ]
        }
      ]
    },
    {
      "cell_type": "markdown",
      "source": [
        "####**TASK P7.3**"
      ],
      "metadata": {
        "id": "SxiMMNLyPwGV"
      }
    },
    {
      "cell_type": "code",
      "source": [
        "# Append an item to the end of the list\n",
        "my_list.append(\"Charles Darwin\")\n",
        "print (my_list)"
      ],
      "metadata": {
        "id": "3VrLc6CGQTi-",
        "colab": {
          "base_uri": "https://localhost:8080/"
        },
        "outputId": "a2aed81f-65bd-4dc0-ccb4-af0ca45164c4"
      },
      "execution_count": null,
      "outputs": [
        {
          "output_type": "stream",
          "name": "stdout",
          "text": [
            "['Hello', 'World', 'Alfred R. Wallace', 'Charles Darwin']\n"
          ]
        }
      ]
    },
    {
      "cell_type": "markdown",
      "source": [
        "####**TASK P7.4**. Ask Gemini how to <font color=crimson>```insert```</font> a new item at index 1 in the list"
      ],
      "metadata": {
        "id": "XQKmwgbfQond"
      }
    },
    {
      "cell_type": "code",
      "source": [
        "# On line #2 insert an item at index 1 of my_list\n",
        "\n",
        "print (my_list)"
      ],
      "metadata": {
        "id": "u0maP5CZZN13",
        "colab": {
          "base_uri": "https://localhost:8080/"
        },
        "outputId": "3fff6ee7-ada5-40e6-f2c3-61141f23e046"
      },
      "execution_count": null,
      "outputs": [
        {
          "output_type": "stream",
          "name": "stdout",
          "text": [
            "['Hello', 'New Item Test', 'World', 'Alfred R. Wallace', 'Charles Darwin']\n"
          ]
        }
      ]
    },
    {
      "cell_type": "markdown",
      "source": [
        "# **<font color=blue>P8. </font>** Slicing lists and strings"
      ],
      "metadata": {
        "id": "nlBbe3qBRH_J"
      }
    },
    {
      "cell_type": "markdown",
      "source": [
        "####**TASK P8.1** Slice and print only the middle two elements from the list created in P7 (i.e. only <font color=magenta>World</font> and <font color=magenta>Alfred R. Wallace</font>).  "
      ],
      "metadata": {
        "id": "M0YW2MP0WtuI"
      }
    },
    {
      "cell_type": "code",
      "source": [
        "print (my_list[2:4])"
      ],
      "metadata": {
        "colab": {
          "base_uri": "https://localhost:8080/"
        },
        "id": "Tp1djNtiaxSb",
        "outputId": "2e0e8bca-f6c6-4cdf-feff-90f51d59087f"
      },
      "execution_count": null,
      "outputs": [
        {
          "output_type": "stream",
          "name": "stdout",
          "text": [
            "['World', 'Alfred R. Wallace']\n"
          ]
        }
      ]
    },
    {
      "cell_type": "markdown",
      "source": [
        "####**TASK P8.2**: Print <font color=magenta>Wallace World</font> from **my_string** by slicing\n"
      ],
      "metadata": {
        "id": "_F9KCUzCd3ID"
      }
    },
    {
      "cell_type": "code",
      "source": [
        "my_string = \"HelloWorldCharlesDarwinAlfred R. Wallace\"\n",
        "print (my_string[0:5],my_string[5:10])\n",
        "\n",
        "# in the print command below input the correct index values to complete Task P8.2\n",
        "print (my_string[33:40],my_string[5:10])"
      ],
      "metadata": {
        "colab": {
          "base_uri": "https://localhost:8080/"
        },
        "id": "AafKngtba8En",
        "outputId": "1b10b377-226b-4e57-ed5a-b922a97c10ae"
      },
      "execution_count": null,
      "outputs": [
        {
          "output_type": "stream",
          "name": "stdout",
          "text": [
            "Hello World\n",
            "Wallace World\n"
          ]
        }
      ]
    },
    {
      "cell_type": "markdown",
      "source": [
        "####**TASK P8.3**  **<font color = orange> Complete Rosalind Problem #2 Strings and Lists</font>**"
      ],
      "metadata": {
        "id": "2TTQVE-Xf8jR"
      }
    },
    {
      "cell_type": "code",
      "source": [
        "# Enter code for Rosalind 2 here:\n",
        "\n",
        "RosString = \"6XSOAF775RUsKHrrGypaetusaCiYhUSck6AZqDhgK6BPLP3pBapollo5eNFvWCL0LWxPqo4jkLuZv5BEwi2uMZUYsLEGCRSLQkGxb1r7qhNXZhPXnCAnJfsRqtweKQDKDdfgj5n2RnO64DQYmGNDRd0ZjpG2ShRTtY8KFiv6JCYxwCj6krJeheZRItxnW9..\"\n",
        "print(RosString[16:24],RosString[49:55])"
      ],
      "metadata": {
        "id": "LI88f5RZh4GL",
        "colab": {
          "base_uri": "https://localhost:8080/"
        },
        "outputId": "6917f89d-1309-4d2e-88f2-91020cec7d29"
      },
      "execution_count": null,
      "outputs": [
        {
          "output_type": "stream",
          "name": "stdout",
          "text": [
            "Gypaetus apollo\n"
          ]
        }
      ]
    },
    {
      "cell_type": "markdown",
      "source": [
        "####**<font color=crimson>TASK 8.4 Commit to GitHub**</font>*italicized text*"
      ],
      "metadata": {
        "id": "Tw6Pwh6TjwJ9"
      }
    },
    {
      "cell_type": "markdown",
      "source": [
        "# **<font color=blue>P9. </font>** ```if``` and ```else``` - conditional output"
      ],
      "metadata": {
        "id": "iHFNxm30lzic"
      }
    },
    {
      "cell_type": "markdown",
      "source": [
        "####**TASK P9.1** Create some code that subtracts two numbers if they are different or adds them if they are the same."
      ],
      "metadata": {
        "id": "WCXnGdftztbN"
      }
    },
    {
      "cell_type": "code",
      "source": [
        "a=5\n",
        "b=5\n",
        "\n",
        "if a!=b:\n",
        "  print(a-b)\n",
        "\n",
        "else:\n",
        "  print(a+b)"
      ],
      "metadata": {
        "id": "KabZsL5Fy8jJ",
        "colab": {
          "base_uri": "https://localhost:8080/"
        },
        "outputId": "f575af61-26dd-48b9-90dc-7fa5266f6156"
      },
      "execution_count": null,
      "outputs": [
        {
          "output_type": "stream",
          "name": "stdout",
          "text": [
            "10\n"
          ]
        }
      ]
    },
    {
      "cell_type": "markdown",
      "source": [
        "# **<font color=blue>P10.</font>** ```while``` loops"
      ],
      "metadata": {
        "id": "sOgq54Op4MZL"
      }
    },
    {
      "cell_type": "markdown",
      "source": [
        "####**TASK P10.1** Create a while loop that runs 3 times\n"
      ],
      "metadata": {
        "id": "JMqGqhTn4l9s"
      }
    },
    {
      "cell_type": "code",
      "source": [
        "#initiate a counter\n",
        "a = 1\n",
        "\n",
        "#print \"Counting!\" while a<=3\n",
        "while a <= 3:\n",
        "\n",
        "    print (\"Counting!\" * a)\n",
        "    a += 1"
      ],
      "metadata": {
        "id": "07YbiCGO4O1w",
        "colab": {
          "base_uri": "https://localhost:8080/"
        },
        "outputId": "b32059e5-4cab-4e1a-c104-ec4f34420a05"
      },
      "execution_count": null,
      "outputs": [
        {
          "output_type": "stream",
          "name": "stdout",
          "text": [
            "Counting!\n",
            "Counting!Counting!\n",
            "Counting!Counting!Counting!\n"
          ]
        }
      ]
    },
    {
      "cell_type": "markdown",
      "source": [
        "# **<font color=blue>P11.</font>** ```for``` loops – looping over lists"
      ],
      "metadata": {
        "id": "R5_dYi9f6t1z"
      }
    },
    {
      "cell_type": "markdown",
      "source": [
        "####**TASK P11.1** Create a for loop to print each item in a list\n"
      ],
      "metadata": {
        "id": "x9F7v_V073wO"
      }
    },
    {
      "cell_type": "code",
      "source": [
        "names = [\"Alice\",\"Bob\",\"Charley\"]\n",
        "\n",
        "for name in names:\n",
        "    print (\"Hello\", name)"
      ],
      "metadata": {
        "id": "-aqaQ5hz70yo",
        "colab": {
          "base_uri": "https://localhost:8080/"
        },
        "outputId": "163effc7-de9a-4c8a-8bfb-47504d05b49f"
      },
      "execution_count": null,
      "outputs": [
        {
          "output_type": "stream",
          "name": "stdout",
          "text": [
            "Hello Alice\n",
            "Hello Bob\n",
            "Hello Charley\n"
          ]
        }
      ]
    },
    {
      "cell_type": "markdown",
      "source": [
        "# **<font color=blue>P12.</font>** ```for``` loops over a ```range()```of numbers"
      ],
      "metadata": {
        "id": "LdtXZ0LW9ugo"
      }
    },
    {
      "cell_type": "markdown",
      "source": [
        "####**TASK 12.1** Using for and range(), create code that prints the numbers 0-9"
      ],
      "metadata": {
        "id": "jG6jvXEBDi4H"
      }
    },
    {
      "cell_type": "code",
      "source": [
        "# Create a variable to define the  number of iterations\n",
        "iterations = 10\n",
        "\n",
        "#Print the current item's value each time through the loop\n",
        "for number in range(iterations):\n",
        "    print (number)"
      ],
      "metadata": {
        "colab": {
          "base_uri": "https://localhost:8080/"
        },
        "id": "RFBXqQNu_E6X",
        "outputId": "e0790bce-3ffd-48a7-a4c8-c85381fd07e7"
      },
      "execution_count": null,
      "outputs": [
        {
          "output_type": "stream",
          "name": "stdout",
          "text": [
            "0\n",
            "1\n",
            "2\n",
            "3\n",
            "4\n",
            "5\n",
            "6\n",
            "7\n",
            "8\n",
            "9\n"
          ]
        }
      ]
    },
    {
      "cell_type": "markdown",
      "source": [
        "####**TASK 12.2** Modify the code so that it only prints every 3rd number from 9 through 27 (i.e. including 27)"
      ],
      "metadata": {
        "id": "NRd5srR_G-PQ"
      }
    },
    {
      "cell_type": "code",
      "source": [
        "#Create count variable\n",
        "iterations = 28\n",
        "\n",
        "#Print every third from 9 to 27\n",
        "for number in range(9,iterations,3):\n",
        "    print (number)"
      ],
      "metadata": {
        "id": "irYTFPO-IRHo",
        "colab": {
          "base_uri": "https://localhost:8080/"
        },
        "outputId": "ba843b86-f8e1-4839-ee21-408de3aee129"
      },
      "execution_count": null,
      "outputs": [
        {
          "output_type": "stream",
          "name": "stdout",
          "text": [
            "9\n",
            "12\n",
            "15\n",
            "18\n",
            "21\n",
            "24\n",
            "27\n"
          ]
        }
      ]
    },
    {
      "cell_type": "markdown",
      "source": [
        "####**TASK 12.3** <font color = orange> **Complete Rosalind Problem #3 Conditions and Loops** </font>"
      ],
      "metadata": {
        "id": "83jDEjpMHXUa"
      }
    },
    {
      "cell_type": "code",
      "source": [
        "# Enter code for Rosalind 3 here:\n",
        "#Setting integers\n",
        "a = 4574\n",
        "b = 9250\n",
        "#Setting a sum variable, start with 0\n",
        "sum = 0\n",
        "\n",
        "for eachnum in range(a,b):\n",
        "  if eachnum % 2 == 1:\n",
        "    sum += eachnum\n",
        "print(sum)\n"
      ],
      "metadata": {
        "id": "EI7hRtakG90R",
        "colab": {
          "base_uri": "https://localhost:8080/"
        },
        "outputId": "12952c9c-0288-432b-85bd-51f17d84a9ad"
      },
      "execution_count": null,
      "outputs": [
        {
          "output_type": "stream",
          "name": "stdout",
          "text": [
            "16160256\n"
          ]
        }
      ]
    },
    {
      "cell_type": "markdown",
      "source": [
        "####**<font color=crimson>TASK 12.4 Commit to GitHub**</font>"
      ],
      "metadata": {
        "id": "3P9DKNbPI1wp"
      }
    },
    {
      "cell_type": "markdown",
      "source": [
        "# **<font color=blue>P13.</font>** File I/O – with open(\"filename\", \"mode\") as filehandle:\n"
      ],
      "metadata": {
        "id": "i4Fo-ddSKWwy"
      }
    },
    {
      "cell_type": "markdown",
      "source": [
        "####**TASK P13.1** Use the ```read()``` function to print the <font color = orange>practice dataset from Rosalind #4</font>\n"
      ],
      "metadata": {
        "id": "sgc3wiQmLXcI"
      }
    },
    {
      "cell_type": "code",
      "source": [
        "with open(\"/text2.txt\",\"r\") as data:\n",
        "\n",
        "\n",
        "    d = data.read()\n",
        "    print(d)\n",
        "\n",
        "    #print(data.readline())\n",
        "\n",
        "    #print(data.readlines())"
      ],
      "metadata": {
        "id": "V5nzHsnULA_n",
        "colab": {
          "base_uri": "https://localhost:8080/",
          "height": 216
        },
        "outputId": "7e3863e0-f297-4948-a1c8-1f2a9d3fea71"
      },
      "execution_count": null,
      "outputs": [
        {
          "output_type": "error",
          "ename": "TypeError",
          "evalue": "not all arguments converted during string formatting",
          "traceback": [
            "\u001b[0;31m---------------------------------------------------------------------------\u001b[0m",
            "\u001b[0;31mTypeError\u001b[0m                                 Traceback (most recent call last)",
            "\u001b[0;32m/tmp/ipython-input-376176405.py\u001b[0m in \u001b[0;36m<cell line: 0>\u001b[0;34m()\u001b[0m\n\u001b[1;32m      5\u001b[0m     \u001b[0md\u001b[0m \u001b[0;34m=\u001b[0m \u001b[0mdata\u001b[0m\u001b[0;34m.\u001b[0m\u001b[0mread\u001b[0m\u001b[0;34m(\u001b[0m\u001b[0;34m)\u001b[0m\u001b[0;34m\u001b[0m\u001b[0;34m\u001b[0m\u001b[0m\n\u001b[1;32m      6\u001b[0m     \u001b[0;32mfor\u001b[0m \u001b[0mline\u001b[0m \u001b[0;32min\u001b[0m \u001b[0md\u001b[0m\u001b[0;34m:\u001b[0m\u001b[0;34m\u001b[0m\u001b[0;34m\u001b[0m\u001b[0m\n\u001b[0;32m----> 7\u001b[0;31m       \u001b[0;32mif\u001b[0m \u001b[0mline\u001b[0m \u001b[0;34m%\u001b[0m \u001b[0;36m2\u001b[0m \u001b[0;34m==\u001b[0m \u001b[0;36m0\u001b[0m\u001b[0;34m:\u001b[0m\u001b[0;34m\u001b[0m\u001b[0;34m\u001b[0m\u001b[0m\n\u001b[0m\u001b[1;32m      8\u001b[0m         \u001b[0mprint\u001b[0m\u001b[0;34m(\u001b[0m\u001b[0mline\u001b[0m\u001b[0;34m)\u001b[0m\u001b[0;34m\u001b[0m\u001b[0;34m\u001b[0m\u001b[0m\n\u001b[1;32m      9\u001b[0m \u001b[0;34m\u001b[0m\u001b[0m\n",
            "\u001b[0;31mTypeError\u001b[0m: not all arguments converted during string formatting"
          ]
        }
      ]
    },
    {
      "cell_type": "markdown",
      "source": [
        "####**TASK P13.2** Explore file object functions to read and print practice.txt"
      ],
      "metadata": {
        "id": "GLO6tBYNVzYZ"
      }
    },
    {
      "cell_type": "markdown",
      "source": [
        "#<font color=blue>**P14.**</font> Store the content, close the file, and join ( ) the list"
      ],
      "metadata": {
        "id": "iupO8iI-ZYAe"
      }
    },
    {
      "cell_type": "code",
      "source": [
        "with open(\"/text2.txt\",\"r\") as data:\n",
        "\n",
        "  list_of_lines=data.readlines()\n",
        "\n",
        "print (list_of_lines)"
      ],
      "metadata": {
        "id": "8U5w2qOudDyp",
        "colab": {
          "base_uri": "https://localhost:8080/"
        },
        "outputId": "3bf97e6e-5e88-4586-ff5c-45c7564fdf3d"
      },
      "execution_count": null,
      "outputs": [
        {
          "output_type": "stream",
          "name": "stdout",
          "text": [
            "['Bravely bold Sir Robin rode forth from Camelot\\n', 'Yes, brave Sir Robin turned about\\n', 'He was not afraid to die, O brave Sir Robin\\n', 'And gallantly he chickened out\\n', 'He was not at all afraid to be killed in nasty ways\\n', 'Bravely talking to his feet\\n', 'Brave, brave, brave, brave Sir Robin\\n', 'He beat a very brave retreat']\n"
          ]
        }
      ]
    },
    {
      "cell_type": "markdown",
      "source": [
        "####**TASK P14.1** Read practice.txt into a list of lines. Then, after the file is closed, use the join ( ) function to print the contents so it looks like the original input."
      ],
      "metadata": {
        "id": "5pPhGmQYiiKx"
      }
    },
    {
      "cell_type": "code",
      "source": [],
      "metadata": {
        "id": "XLvFZ9uSeyYH",
        "colab": {
          "base_uri": "https://localhost:8080/",
          "height": 144
        },
        "outputId": "8314a0b7-e020-4dd1-9512-0237754d3b32"
      },
      "execution_count": null,
      "outputs": [
        {
          "output_type": "error",
          "ename": "TypeError",
          "evalue": "str.join() takes exactly one argument (0 given)",
          "traceback": [
            "\u001b[0;31m---------------------------------------------------------------------------\u001b[0m",
            "\u001b[0;31mTypeError\u001b[0m                                 Traceback (most recent call last)",
            "\u001b[0;32m/tmp/ipython-input-1309214104.py\u001b[0m in \u001b[0;36m<cell line: 0>\u001b[0;34m()\u001b[0m\n\u001b[0;32m----> 1\u001b[0;31m \u001b[0mprint\u001b[0m \u001b[0;34m(\u001b[0m\u001b[0;34m\"/text2.txt\"\u001b[0m\u001b[0;34m.\u001b[0m\u001b[0mjoin\u001b[0m\u001b[0;34m(\u001b[0m\u001b[0;34m)\u001b[0m\u001b[0;34m)\u001b[0m\u001b[0;34m\u001b[0m\u001b[0;34m\u001b[0m\u001b[0m\n\u001b[0m",
            "\u001b[0;31mTypeError\u001b[0m: str.join() takes exactly one argument (0 given)"
          ]
        }
      ]
    },
    {
      "cell_type": "code",
      "source": [
        "with open(\"/text2.txt\",\"r\") as data:\n",
        "    list_of_lines = data.readlines()\n",
        "\n",
        "print (\"\".join(list_of_lines))"
      ],
      "metadata": {
        "colab": {
          "base_uri": "https://localhost:8080/"
        },
        "id": "1Hacc06TbgKT",
        "outputId": "6ef9a655-7ec8-4214-da04-e0d5aeacffe4"
      },
      "execution_count": null,
      "outputs": [
        {
          "output_type": "stream",
          "name": "stdout",
          "text": [
            "Bravely bold Sir Robin rode forth from Camelot\n",
            "Yes, brave Sir Robin turned about\n",
            "He was not afraid to die, O brave Sir Robin\n",
            "And gallantly he chickened out\n",
            "He was not at all afraid to be killed in nasty ways\n",
            "Bravely talking to his feet\n",
            "Brave, brave, brave, brave Sir Robin\n",
            "He beat a very brave retreat\n"
          ]
        }
      ]
    },
    {
      "cell_type": "markdown",
      "source": [
        "#<font color=blue>**P15.**</font> Combining for loops with file objects"
      ],
      "metadata": {
        "id": "lY924yM0jckW"
      }
    },
    {
      "cell_type": "markdown",
      "source": [
        "####**TASK P15.1** Use a for loop to print each line in practice.txt"
      ],
      "metadata": {
        "id": "NvqGEl4JjpiO"
      }
    },
    {
      "cell_type": "code",
      "source": [
        "with open(\"/text2.txt\",\"r\") as data:\n",
        "  list_of_lines = data.readlines()\n",
        "  print(list_of_lines)\n"
      ],
      "metadata": {
        "id": "snY-10pUkMby",
        "colab": {
          "base_uri": "https://localhost:8080/"
        },
        "outputId": "16884148-e6eb-46ae-c346-d384d58317c6"
      },
      "execution_count": null,
      "outputs": [
        {
          "output_type": "stream",
          "name": "stdout",
          "text": [
            "['Bravely bold Sir Robin rode forth from Camelot\\n', 'Yes, brave Sir Robin turned about\\n', 'He was not afraid to die, O brave Sir Robin\\n', 'And gallantly he chickened out\\n', 'He was not at all afraid to be killed in nasty ways\\n', 'Bravely talking to his feet\\n', 'Brave, brave, brave, brave Sir Robin\\n', 'He beat a very brave retreat']\n"
          ]
        }
      ]
    },
    {
      "cell_type": "markdown",
      "source": [
        "####**TASK P15.2** <font color=orange>**Complete Rosalind Problem #4 Working with Files**</font>\n"
      ],
      "metadata": {
        "id": "DHzE7CI4lWGw"
      }
    },
    {
      "cell_type": "code",
      "source": [
        "#print a file with only the even-numbered lines\n",
        "with open(\"/content/rosalind_ini5 (2).txt\",\"r\") as data:\n",
        "    for index, line in enumerate(data, 1):\n",
        "        if index % 2 == 0:\n",
        "            print(line, end=\"\")"
      ],
      "metadata": {
        "id": "8QR9dRFtltBN",
        "colab": {
          "base_uri": "https://localhost:8080/"
        },
        "outputId": "d3b8f4c0-febb-4fce-9fdb-0ac97b6a37d8"
      },
      "execution_count": null,
      "outputs": [
        {
          "output_type": "stream",
          "name": "stdout",
          "text": [
            "Some things in life are bad, they can really make you mad\n",
            "Other things just make you swear and curse\n",
            "When you're chewing on life's gristle, don't grumble give a whistle\n",
            "This will help things turn out for the best\n",
            "Always look on the bright side of life\n",
            "Always look on the right side of life\n",
            "If life seems jolly rotten, there's something you've forgotten\n",
            "And that's to laugh and smile and dance and sing\n",
            "When you're feeling in the dumps, don't be silly, chumps\n",
            "Just purse your lips and whistle, that's the thing\n",
            "So, always look on the bright side of death\n",
            "Just before you draw your terminal breath\n",
            "Life's a counterfeit and when you look at it\n",
            "Life's a laugh and death's the joke, it's true\n",
            "You see, it's all a show, keep them laughing as you go\n",
            "Just remember the last laugh is on you\n",
            "Always look on the bright side of life\n",
            "And always look on the right side of life\n",
            "Always look on the bright side of life\n",
            "And always look on the right side of life\n"
          ]
        }
      ]
    },
    {
      "cell_type": "markdown",
      "source": [
        "####**<font color=crimson>TASK 15.4 Commit to GitHub**</font>"
      ],
      "metadata": {
        "id": "GJ_acW4WlwDn"
      }
    },
    {
      "cell_type": "markdown",
      "source": [
        "#<font color=blue>**P16.**</font> ```for word in line.split()``` – looping over strings and splitting by any delimiter"
      ],
      "metadata": {
        "id": "WD5wnvQkmh6E"
      }
    },
    {
      "cell_type": "markdown",
      "source": [
        "####**TASK P16.1** Print each word in the ROSALIND Problem #5 Sample Dataset on a separate line.\n"
      ],
      "metadata": {
        "id": "kApNvgOLn8lp"
      }
    },
    {
      "cell_type": "code",
      "source": [
        "with open(\"practice_5.txt\",\"r\") as data:\n",
        "\n",
        "  line=data.read()\n",
        "\n",
        "for word in line.split():\n",
        "    print (word)"
      ],
      "metadata": {
        "colab": {
          "base_uri": "https://localhost:8080/"
        },
        "id": "PBjyhwclpKoM",
        "outputId": "20f5bfcc-f220-4752-c9d5-628d730e936d"
      },
      "execution_count": null,
      "outputs": [
        {
          "output_type": "stream",
          "name": "stdout",
          "text": [
            "We\n",
            "tried\n",
            "list\n",
            "and\n",
            "we\n",
            "tried\n",
            "dicts\n",
            "also\n",
            "we\n",
            "tried\n",
            "Zen\n"
          ]
        }
      ]
    },
    {
      "cell_type": "markdown",
      "source": [
        "#<font color=blue>**P17.**</font> Python Dictionaries { }"
      ],
      "metadata": {
        "id": "kq9QbEttnA4h"
      }
    },
    {
      "cell_type": "markdown",
      "source": [
        "####**TASK 17.1** Create and print your first dictionary"
      ],
      "metadata": {
        "id": "lVudFQkZqJgh"
      }
    },
    {
      "cell_type": "code",
      "source": [
        "sequences = {\n",
        "    \"H.neandertalensis\":\"ACGTCGCTCTGCTA\",\n",
        "    \"H.sapiens\":\"ACGTCACTCTGCTA\"\n",
        "    }\n",
        "\n",
        "print (sequences)"
      ],
      "metadata": {
        "colab": {
          "base_uri": "https://localhost:8080/"
        },
        "id": "IzKFWDlgq6zo",
        "outputId": "f431886e-e43c-49f8-b195-c5ab328abd95"
      },
      "execution_count": null,
      "outputs": [
        {
          "output_type": "stream",
          "name": "stdout",
          "text": [
            "{'H.neandertalensis': 'ACGTCGCTCTGCTA', 'H.sapiens': 'ACGTCACTCTGCTA'}\n"
          ]
        }
      ]
    },
    {
      "cell_type": "markdown",
      "source": [
        "#<font color=blue>**P18.**</font> Manipulating and printing dictionaries"
      ],
      "metadata": {
        "id": "OvqoT6UwnK0g"
      }
    },
    {
      "cell_type": "markdown",
      "source": [
        "####**TASK 18.1** Modify line 8 to create a fasta file of the hominid sequences"
      ],
      "metadata": {
        "id": "5Be2tcQRrjso"
      }
    },
    {
      "cell_type": "code",
      "source": [
        "sequences[\"P.troglodytes\"]=\"ACGTCACTCTCCTA\"\n",
        "\n",
        "sequences.update({\"G.gorilla\":\"ACGTCCTCCTA\", \"H.erectus\":\"ACGTCACTCTGCTA\"})\n",
        "\n",
        "print (sequences[\"H.sapiens\"])\n",
        "\n",
        "for key,value in sequences.items():\n",
        "     print (key,value)"
      ],
      "metadata": {
        "colab": {
          "base_uri": "https://localhost:8080/"
        },
        "id": "b-2XDof4rtP8",
        "outputId": "26d5de52-9ab3-4cd6-fafe-b8899f12860f"
      },
      "execution_count": null,
      "outputs": [
        {
          "output_type": "stream",
          "name": "stdout",
          "text": [
            "ACGTCACTCTGCTA\n",
            "H.neandertalensis ACGTCGCTCTGCTA\n",
            "H.sapiens ACGTCACTCTGCTA\n",
            "P.troglodytes ACGTCACTCTCCTA\n",
            "G.gorilla ACGTCCTCCTA\n",
            "H.erectus ACGTCACTCTGCTA\n"
          ]
        }
      ]
    },
    {
      "cell_type": "markdown",
      "source": [
        "####**TASK P18.2** <font color= orange>**Complete Rosalind Problem #5  Dictionaries**</font>"
      ],
      "metadata": {
        "id": "Y98OZYUNvmWD"
      }
    },
    {
      "cell_type": "code",
      "source": [
        "#Given: A string s of length at most 10000 letters.\n",
        "#Return: The number of occurrences of each word in s,\n",
        "#where words are separated by spaces. Words are case-sensitive,\n",
        "#and the lines in the output can be in any order.\n",
        "\n",
        "#Making dictionary\n",
        "word_counts = {}\n",
        "\n",
        "with open(\"/content/rosalind_ini6 (1).txt\", \"r\") as data:\n",
        "    line = data.read()\n",
        "    words = line.split()\n",
        "\n",
        "    for word in words:\n",
        "        if word in word_counts:\n",
        "            word_counts[word] += 1\n",
        "        else:\n",
        "            word_counts[word] = 1\n",
        "\n",
        "for word, count in word_counts.items():\n",
        "    print(word, count)\n",
        "\n"
      ],
      "metadata": {
        "id": "lD3KoTY9wWa7",
        "colab": {
          "base_uri": "https://localhost:8080/"
        },
        "outputId": "aa97ace1-25a2-47b5-c940-165fd15f986f"
      },
      "execution_count": null,
      "outputs": [
        {
          "output_type": "stream",
          "name": "stdout",
          "text": [
            "When 1\n",
            "I 2\n",
            "find 1\n",
            "myself 1\n",
            "in 4\n",
            "times 1\n",
            "of 11\n",
            "trouble 1\n",
            "Mother 2\n",
            "Mary 2\n",
            "comes 2\n",
            "to 3\n",
            "me 4\n",
            "Speaking 3\n",
            "words 7\n",
            "wisdom 7\n",
            "let 30\n",
            "it 36\n",
            "be 41\n",
            "And 3\n",
            "my 1\n",
            "hour 1\n",
            "darkness 1\n",
            "she 1\n",
            "is 4\n",
            "standing 1\n",
            "right 1\n",
            "front 1\n",
            "Let 6\n",
            "Whisper 4\n",
            "when 2\n",
            "the 4\n",
            "broken 1\n",
            "hearted 1\n",
            "people 1\n",
            "living 1\n",
            "world 1\n",
            "agree 1\n",
            "There 4\n",
            "will 5\n",
            "an 4\n",
            "answer 4\n",
            "For 1\n",
            "though 1\n",
            "they 2\n",
            "may 1\n",
            "parted 1\n",
            "there 2\n",
            "still 2\n",
            "a 2\n",
            "chance 1\n",
            "that 2\n",
            "see 1\n",
            "night 1\n",
            "cloudy 1\n",
            "light 1\n",
            "shines 1\n",
            "on 1\n",
            "Shine 1\n",
            "until 1\n",
            "tomorrow 1\n",
            "wake 1\n",
            "up 1\n",
            "sound 1\n",
            "music 1\n",
            "yeah 2\n"
          ]
        }
      ]
    },
    {
      "cell_type": "markdown",
      "source": [
        "####**<font color=crimson>TASK 18.3 Commit to GitHub**</font>"
      ],
      "metadata": {
        "id": "1dJdfy4bwVO4"
      }
    },
    {
      "cell_type": "markdown",
      "source": [
        "#<font color=blue>**P19.**</font> ```count()``` – counting things made easy"
      ],
      "metadata": {
        "id": "28ygQlYJnZoA"
      }
    },
    {
      "cell_type": "markdown",
      "source": [
        "####**TASK P19.1** <font color= orange>**Complete Rosalind Problem #6  Counting DNA Nucleotides**</font>"
      ],
      "metadata": {
        "id": "CZ9tBWDmw4D-"
      }
    },
    {
      "cell_type": "code",
      "source": [
        "# Given: A DNA string s of length at most 1000 nt.\n",
        "# Return: Four integers (separated by spaces) counting the\n",
        "#respective number of times that the symbols 'A', 'C', 'G', and 'T'\n",
        "#occur in s.\n",
        "\n",
        "dna = \"ATGAGTCCAGGATGCGCTTTTGGACTGTATAAGTAGAGCTGACGACTACCTTGTGTACACCCTCTCCAAGGCATACGGAAGACACGAACTTCGGTCAACAAATAGCGACCCGCATAGCTGTTTAGAAATAGCCTCATTCCTGGACCTCGCGAAACCGCGCCATAGTGGGTCTTGGACCAAATACCTAATCCTGCCTCTAGACCCCGGTCTCGTATTGTAGCAGTTATTTAGGAGGGTGGTGCGAAACTCTATGTACTCAGTGAACAAACGCCCTGAAGCGTTGTGAAAACTTCTCCCCATTAGCGCAGAAAGCGCGCATATGATAAGTAGATGTAACCTTTTATCCCAGGTTTATGAGCTTAGATGGCTGTCCTAGCCTATGATGAGGTCGGCCTCCGGATACTAGGTCGACGTCAGGTCCTCGGACTCTGTGTGCAGGGGTTGCTGTTGTACAGGTATTGGATTTACGCACGCCGACCTATCTGAAACCATTTCCAGACAATTCGCTTTAATAACCAGATACAGGGAGTCACTGCACATGATAAGCAAAGACACCTTTTAGTGTACCCGGGCTAATTTTCAGAGCATTTGGGCTCTCAACCTGGGGGTAAGTAGAGTGGCTAGGGTAACGGATTTAGCGTATCAGCCAATAGAGCACCGCGGTTACGAGTAGGGATAGGAAAAGTCGGACAAACAAACACTGTAGCTGATAATATCCCCCTGAACTCTGAGTGAGGGACAGCCGCGAACAAAGTTTCAAAGCGTCAACACGGCGTGCGCTGTCTAATGCGCAGAGCCGGCATTGAAATTAGAATTGTAATCGACCACCCCAAGTGTAGATGCATGGATATGCCTGTGATCATGTTAGGTTGTGAGTCTGAAGAATAGCGGGCAAAGCAATCTCAGCACGCATAGCCAATCTCCCACGCGAATCTCGCATAATAGTC\"\n",
        "\n",
        "count_A = dna.count('A')\n",
        "count_C = dna.count('C')\n",
        "count_G = dna.count('G')\n",
        "count_T = dna.count('T')\n",
        "\n",
        "print(count_A, count_C, count_G, count_T)"
      ],
      "metadata": {
        "id": "GlwS14zGxBIC",
        "colab": {
          "base_uri": "https://localhost:8080/"
        },
        "outputId": "a69f43a1-1940-44ce-ff78-b2630a30d675"
      },
      "execution_count": null,
      "outputs": [
        {
          "output_type": "stream",
          "name": "stdout",
          "text": [
            "259 224 237 227\n"
          ]
        }
      ]
    },
    {
      "cell_type": "markdown",
      "source": [
        "####**TASK P19.2** Modify your code for the Rosalind #5 Dictionary problem so that it uses count( ) to count the words."
      ],
      "metadata": {
        "id": "rj-OWB6Jym5y"
      }
    },
    {
      "cell_type": "code",
      "source": [
        "word_counts = {}\n",
        "\n",
        "with open(\"rosalind_ini6.txt\", \"r\") as data:\n",
        "    line = data.read()\n",
        "    words = line.split()\n",
        "\n",
        "    for word in words:\n",
        "        if word not in word_counts:\n",
        "            word_counts[word] = 1\n",
        "\n",
        "print(len(word_counts))"
      ],
      "metadata": {
        "id": "9H_S6jLnzfxR",
        "colab": {
          "base_uri": "https://localhost:8080/"
        },
        "outputId": "99737c64-fa6e-48f7-8839-02a9d830f4a4"
      },
      "execution_count": null,
      "outputs": [
        {
          "output_type": "stream",
          "name": "stdout",
          "text": [
            "66\n"
          ]
        }
      ]
    },
    {
      "cell_type": "markdown",
      "source": [
        "####**<font color=crimson>TASK 19.3 Commit to GitHub**</font>\n"
      ],
      "metadata": {
        "id": "RzMon_wAzg7D"
      }
    },
    {
      "cell_type": "markdown",
      "source": [
        "#<font color=blue>**P20.**</font> Installing biopython"
      ],
      "metadata": {
        "id": "-IB0c2gG0Z1O"
      }
    },
    {
      "cell_type": "code",
      "source": [
        "!pip install biopython"
      ],
      "metadata": {
        "colab": {
          "base_uri": "https://localhost:8080/"
        },
        "id": "pinPQdEn0mJM",
        "outputId": "a4bc2641-9099-40b5-9a6d-053f6cc2d094"
      },
      "execution_count": null,
      "outputs": [
        {
          "output_type": "stream",
          "name": "stdout",
          "text": [
            "Collecting biopython\n",
            "  Downloading biopython-1.85-cp312-cp312-manylinux_2_17_x86_64.manylinux2014_x86_64.whl.metadata (13 kB)\n",
            "Requirement already satisfied: numpy in /usr/local/lib/python3.12/dist-packages (from biopython) (2.0.2)\n",
            "Downloading biopython-1.85-cp312-cp312-manylinux_2_17_x86_64.manylinux2014_x86_64.whl (3.3 MB)\n",
            "\u001b[?25l   \u001b[90m━━━━━━━━━━━━━━━━━━━━━━━━━━━━━━━━━━━━━━━━\u001b[0m \u001b[32m0.0/3.3 MB\u001b[0m \u001b[31m?\u001b[0m eta \u001b[36m-:--:--\u001b[0m\r\u001b[2K   \u001b[91m━━━━━━━━━━━━━━━━━━━━━━━━━━━━━━━━━━━━━━━\u001b[0m\u001b[91m╸\u001b[0m \u001b[32m3.3/3.3 MB\u001b[0m \u001b[31m108.4 MB/s\u001b[0m eta \u001b[36m0:00:01\u001b[0m\r\u001b[2K   \u001b[90m━━━━━━━━━━━━━━━━━━━━━━━━━━━━━━━━━━━━━━━━\u001b[0m \u001b[32m3.3/3.3 MB\u001b[0m \u001b[31m60.0 MB/s\u001b[0m eta \u001b[36m0:00:00\u001b[0m\n",
            "\u001b[?25hInstalling collected packages: biopython\n",
            "Successfully installed biopython-1.85\n"
          ]
        }
      ]
    },
    {
      "cell_type": "code",
      "metadata": {
        "colab": {
          "base_uri": "https://localhost:8080/"
        },
        "id": "5ccd6f0b",
        "outputId": "2211a5e8-0b48-48b9-9eaf-39424dd67497"
      },
      "source": [
        "try:\n",
        "  from Bio.Seq import Seq\n",
        "  print(\"Biopython is installed correctly.\")\n",
        "except ImportError:\n",
        "  print(\"Biopython is not installed or there was an import error.\")"
      ],
      "execution_count": null,
      "outputs": [
        {
          "output_type": "stream",
          "name": "stdout",
          "text": [
            "Biopython is installed correctly.\n"
          ]
        }
      ]
    },
    {
      "cell_type": "markdown",
      "source": [
        "#<font color=blue>**P21.**</font> Seq( ) – a function to define sequence objects"
      ],
      "metadata": {
        "id": "IGX-ThdQ3RuA"
      }
    },
    {
      "cell_type": "code",
      "source": [
        "from Bio.Seq import Seq\n",
        "\n",
        "my_sequence = Seq(\"GATGGAACTTGACTACGTAAATT\")"
      ],
      "metadata": {
        "id": "ltZBr8mE4OhM",
        "colab": {
          "base_uri": "https://localhost:8080/",
          "height": 357
        },
        "outputId": "b89b01e7-d092-4728-aab9-9564db031f16"
      },
      "execution_count": null,
      "outputs": [
        {
          "output_type": "error",
          "ename": "ModuleNotFoundError",
          "evalue": "No module named 'Bio'",
          "traceback": [
            "\u001b[0;31m---------------------------------------------------------------------------\u001b[0m",
            "\u001b[0;31mModuleNotFoundError\u001b[0m                       Traceback (most recent call last)",
            "\u001b[0;32m/tmp/ipython-input-4131089226.py\u001b[0m in \u001b[0;36m<cell line: 0>\u001b[0;34m()\u001b[0m\n\u001b[0;32m----> 1\u001b[0;31m \u001b[0;32mfrom\u001b[0m \u001b[0mBio\u001b[0m\u001b[0;34m.\u001b[0m\u001b[0mSeq\u001b[0m \u001b[0;32mimport\u001b[0m \u001b[0mSeq\u001b[0m\u001b[0;34m\u001b[0m\u001b[0;34m\u001b[0m\u001b[0m\n\u001b[0m\u001b[1;32m      2\u001b[0m \u001b[0;34m\u001b[0m\u001b[0m\n\u001b[1;32m      3\u001b[0m \u001b[0mmy_sequence\u001b[0m \u001b[0;34m=\u001b[0m \u001b[0mSeq\u001b[0m\u001b[0;34m(\u001b[0m\u001b[0;34m\"GATGGAACTTGACTACGTAAATT\"\u001b[0m\u001b[0;34m)\u001b[0m\u001b[0;34m\u001b[0m\u001b[0;34m\u001b[0m\u001b[0m\n",
            "\u001b[0;31mModuleNotFoundError\u001b[0m: No module named 'Bio'",
            "",
            "\u001b[0;31m---------------------------------------------------------------------------\u001b[0;32m\nNOTE: If your import is failing due to a missing package, you can\nmanually install dependencies using either !pip or !apt.\n\nTo view examples of installing some common dependencies, click the\n\"Open Examples\" button below.\n\u001b[0;31m---------------------------------------------------------------------------\u001b[0m\n"
          ],
          "errorDetails": {
            "actions": [
              {
                "action": "open_url",
                "actionText": "Open Examples",
                "url": "/notebooks/snippets/importing_libraries.ipynb"
              }
            ]
          }
        }
      ]
    },
    {
      "cell_type": "markdown",
      "source": [
        "####**TASK BP21.2** <font color=orange> **Complete Rosalind #7 Transcribing DNA into RNA**</font>"
      ],
      "metadata": {
        "id": "UXCuEFxg6Jxx"
      }
    },
    {
      "cell_type": "code",
      "source": [
        "from Bio.Seq import Seq\n",
        "\n",
        "with open(\"/content/rosalind_rna (1).txt\", \"r\") as data:\n",
        "    line = data.read()\n",
        "    dna = Seq(line)\n",
        "    rna = dna.transcribe()\n",
        "    print(rna)\n",
        "\n"
      ],
      "metadata": {
        "id": "UXt6gWLM6qde",
        "colab": {
          "base_uri": "https://localhost:8080/"
        },
        "outputId": "d21da447-54e6-47a4-9cfe-c3a9819ede0d"
      },
      "execution_count": null,
      "outputs": [
        {
          "output_type": "stream",
          "name": "stdout",
          "text": [
            "CAUAAAACAGAUCACAAACACCAUGGCAUUCAGGCGAGUCCCUAUUCGUCCAGCUAUCCAAUUUCGAGAACCACUCUAAUAUAUAAUUGUGGAUGGAAAAGCCUGGGGCUAAAGUACUAGAGGAGGAGUCAGCAUAGCACAACCUGAAUAUGGUCCUGUGUUGUUUCUCACCUCUGUAUUUGUUCGUUACGAAACCCACUACGCUAAUUUACUUGUAGAGCUGAUAGUUCUUCUAGACCUGUUCGUGUCUUCCACGGAAAUCUGCGAUUAUAUUUUGGACCCUGCUUUACCUCAGUCUCGGAUCCUUAUGAAUCUUACUGCCAAACGUCAGACGCCACCAUGGCCACUAACUACGUAACGAGUUCCUCUAUUCUACGAGAUACAACAUGUCAUAUCCAGUCUUAGAAGACCAAAGCUCAGGAAUAAAUCCUCAGAGCUGGGCAGAGCCCAGAUCUAGGAGGGUUAAGUGACAACCCAAGAAGGCUUGUACAAGGAGAUGCUCCGCCCCCAUCAGAUGUUUACCUGCGUCGAUCACGCAAUAUGGUGUUGGCGACGACCUAUGUUACGAAUUCCAUUCUCUCGCUCUAAACAAACGGAUGGAGCGUGGGCAUCUAGCCGAUGACGUGACCUGGCACAUAACUGCAAUUAUGGCGACACCAACGUGGGGUCAUAUAGCAUCAGGUGACACGAUCGUAUAUGCGGGCAUCCUCUGGCCUGAAGACUCCUGGCUACAAGCCAGGAUGCUCAUCGUUACUCAUUUACUAAGUGUUAGAUACCGUGGAACAUGCUCCUAGGCCAUGGUGCACGACCGGAGUUGCAUCUUAUGCUCAACAAUUAUAGCUGCGCCGAGCCACGGCACUAACGGCAGGCUUGACUUACGCAACAGAAAGUUAUAUCGGUUCUUAAUAAGGGAUUUGCUUGCUAUGCCCGUCUCGGCACAGAAAACGAUAUUUUUUACAC\n",
            "\n"
          ]
        }
      ]
    },
    {
      "cell_type": "markdown",
      "source": [
        "####**TASK BP21.2** <font color=orange> **Complete Rosalind #8  Translating RNA into Protein**</font>"
      ],
      "metadata": {
        "id": "9P4_MaXp6O3n"
      }
    },
    {
      "cell_type": "code",
      "source": [
        "from Bio.Seq import Seq\n",
        "\n",
        "with open(\"/content/rosalind_prot (1).txt\", \"r\") as data:\n",
        "    line = data.read()\n",
        "    rna = Seq(line)\n",
        "    protein = rna.translate()\n",
        "    print(protein)\n"
      ],
      "metadata": {
        "colab": {
          "base_uri": "https://localhost:8080/"
        },
        "id": "r2Fz9L8gBOYo",
        "outputId": "e54ab11e-f1c3-487a-da54-856e1f19aef9"
      },
      "execution_count": null,
      "outputs": [
        {
          "output_type": "stream",
          "name": "stdout",
          "text": [
            "MQTSGVSLKNGTSIHGHARWIYRLQMVCGHATSDARFNPHFNERQARTIIHCAPPPPRGISAFRHDPTISAQRSVPSPVTRQNLVQLRRSTPFGPMGSNLTERSTQAKNMYSLALEAAGCQKASTRRGHAQRGSRAQNLSMHFAINLLTCHIVLLRLACLIYDAIGKGAVDSLLTVQCRLVPAVYENVLTAISTVVTDPPYSVKISCGEGSMQDRKWTLAIGYDELYLSVSLTTTGRDTAAGPSRSLVSGRDWDRCSLVIPEHIWTSQRVSASINTTGMCARKFDLASKTHIECSDHQLDIGIMISGGRHMNIRQSDIGRHRVYPVCDRRYFVCRPERGLIEPGESVVGCRCPCLSRRLGPLLAIRVNPKVRQDPYRAFHRFVAYHSTQVNCLTAKCKCTCENEPYHKDVRDSAVYTLSFKIRAHEAPIWKNHFSSVLKDFTVLERTPCAILNPDSSLLDHYLHTAPPLGIRTEDRIYPSSGSSGCAFFQFLQIALERRPSAIPNDIVPITNSLTYPAAGQSFPPITLGLVHTKQDDGRNVALASDLTFRNSGVTLVMVAGEFTLEGCVWFVDGRRINSGRINVNVLSLRAAGCAKLAVLCSFPSLDSRIAWGESIINSEQTLAIRARRKGFQCAVNRHVSTLAHLQGPWSIGWTQARLDQQRTRLPKLGELPEFREAYTHYAHRVDGPELSYSVGILSRIAGTWYGCSETLWHQPTDLSLDQSVHHLMARAVEPPDDGESLCLRPTHKLHIVEPLWTYAPTLTSTTHHHRTPTRGLDVERCLDDIDVPLMSLNGTGCGLPNLSDMIILLAFSNLVLRCSLGGYRVGYVPDPSTALWMRYTSGVFFCQPSLTFSCPSGTQTLKTERYHIVNPATDFLHATYATRDQSVGGPRVVQDPRLRSPRSNSFCHRDGEPVEKMNVSAETICCGVTSKRGICSLTTTGFRHDCSYNNGRHVLQDGITESRTDCPVANDVIFVAYWQVLSCHKYTGLDAMFQQALGSLWKIVCDAVQRRDERNPCIDTRGTKQSAQNTQKKGCKPQPGEERTIEATGSEAKKALCRVLLRVTTHQRGCGTEHFALQGFHLPPPYEGRRPLDGCGGSAKPSAFLRVFPKDASGTNGLSIGHHRQVEKGVWLRYRYGCTRLEPSAGRLQDAYPDDWSVQNLIVAAETQNGSSSLRRHKRACLPLYICTNQECAIVVRKFHKGTTFGRGFWWPWTRPQPQVVMRRSCKTLRRFFFVLWNDQYGTLTLDLFRENPVVLVLSSCGFELDEQARLVWLPPSSPMLNNSYLEIPLIEPCTEHYYVRRSQLAKPDDGRDKISAPMTADKFPWKLIGTTSTRLRFERTLPGWGYPPPHNRFARNQNFGRPWKCSHLGRRGKSAQYHSAEMGGNVKESWVTFDSIAPIHMGTVHKRDGLPNITDRFSRSRTNVAPRMTPLTLYSINSNRRCSWGSYMSDNQRTTCGTNDRVHPCLNDAWFLPTKTMSHGFTLGAATVLRHQNYARRAVTSVDNCLSHTSNIIPRRAANQETTVQLEDSSLLRTYTDSCVNVFPTSLFRSSFHALLMNLCGQRFQGQSRCALDATTRSEGNYALPSGVLNPGTGAESNRAVRFAFAPRPGCTPICVKADHPGRRCVSISDELRCRETYTRFSVTTVNLLGHLCRSKACAEQPYGTAHPGHVLPFARSICYQYTKSVTNFSTTRVQFKIICVTNVPNKRRRVRYAMREAFNRPNLNPGSVRILRSRPRVTTLRHQRPIGLVIDDVDFVIEAYCIIRILGTLCDVLSSPYGWSLCAFKPEGKVAPHATKQQFTRVTGAVLYPSGALLPNLRFCAQAVGEGFGPVEACIDQTVLKSSGYFLASLSAVLTRSGTFVGRGTGRRPLYLLMITITGYLRSFLRTKVARSRERFGAHGPHPRRVLLARISDCVDHHMKPELRCSMLRRLRDANYGDSALFSLWSPDRPSYIVHALASNGHPLGAHSETLRLPFLGDVGLFHNSQADRRNSVAHANVFQSYGALRYMRDSRAQWEGMSVLKRSSVVLLESIQQVFITMLRPQKVGTTGASKASTLCHRSAGQSQGKHSADINRLRYGLSLCNHPHKGALLALTQNYDPALPLRQRMRRSINLLTTTLSCSHQSACVAVMVPRTGGGLRELSLPMVSRRPGEVIIVLDRNFTRSSYEYVRVYKNRTSARQSPFAVTQDDYALLKYAYSGIWRSQVSLRSYGAARLRKCQMTTFCLFPTPSLRNKKVMNGHSNASLKLLYSTGGVTVDPQNRENGLSLRVYGRNPVRGASMVSSAQHEAIITALRRMRYSRDEDLLECKPLVCLRTTCDVMGTLKSLGPRPCVLVVQTCVVRRIKEGIEYSCNSGESGFITARFLTRNDVPRINAIPIGLKGCMFRRQSRMLLLEQLKRMRRSLSNMPSILPPQKYRINFGSCVSYPRYGRDALHESEIRSNDQTVQRRLCVLLYTHPTRGPTEFSTPIGRLIASELGSCILHLLSRRAQEILEVTTPSSRRAVVQIRRDCTERPFGKRNAAWVGRFAFLSGLRICCGPWQGRATFLAWSLASQTRDARRASPSPRVDSSLVRWEKSWIMRCGDREQVFCKHSTYMGPQLFYECLFQSGTASSKSSIWISRGSDTSARHHGLFGMAGPRSSLSISINEVYRPVWVILVLSRSGVIEYCHLKYDTFPNLITWCKYESRRAAADISIPCISLPWFQKGTAYLRSSRQLSINPCCKLVCPNGIYVRISTVARMGLPPCVHHPNAESAPSTEYRCLDPHRFVLETRPQSFSPWPSGEQRSQSCIPPKVKSYFCYLPSVPNTTMRIRLHECMKVKTSGDDIVPVFVFHYPSFSGLLYVHDPCGPNSQLSTTGKLCQVSCVADAYKSHGTRTHAPGVPLVRTRLCLDGHTQPDRAPVCSRQRMLVVVRQIVQPMALGYALFQNMCYRDLQCPCIEVSSEPPARSLTWLLTGSRVAAPVHGISWNVGTTTNHPEALCFLCAEGLSYGIKSCVSTTAPETLSPRYGKPNPWLTYCSGWLASGEISDKLCQKLAKVISLASISPDADYLWRMPAVMELLSASMYR*\n"
          ]
        },
        {
          "output_type": "stream",
          "name": "stderr",
          "text": [
            "/usr/local/lib/python3.12/dist-packages/Bio/Seq.py:2879: BiopythonWarning: Partial codon, len(sequence) not a multiple of three. Explicitly trim the sequence or add trailing N before translation. This may become an error in future.\n",
            "  warnings.warn(\n"
          ]
        }
      ]
    },
    {
      "cell_type": "code",
      "source": [
        "#Given: A DNA string s of length at most 1000 bp.\n",
        "#Return: The reverse complement sc of s\n",
        "\n",
        "from Bio.Seq import Seq\n",
        "\n",
        "with open(\"/content/rosalind_revc.txt\", \"r\") as data:\n",
        "    line = data.read()\n",
        "    dna = Seq(line)\n",
        "    rna = dna.reverse_complement()\n",
        "    print(rna)\n",
        "\n"
      ],
      "metadata": {
        "id": "5Rzzfzij6q2P",
        "colab": {
          "base_uri": "https://localhost:8080/"
        },
        "outputId": "ff5da55c-50ee-4e2c-93c2-d1aee9099557"
      },
      "execution_count": null,
      "outputs": [
        {
          "output_type": "stream",
          "name": "stdout",
          "text": [
            "\n",
            "GAGACAAACGATATTTTGCGAGGTAATCTCGCGGCACAAGGAACTTATCTCTTTGGGTCGAGAACGTGTGTGCCGTCAACCCGCCGCGAGATCACCGTGATGAAAATGCGATAAAGCGGGAGTGCAACGAAGCATTCTGGAGGCTCGTAATTCCTACTTCACCCATATCCACTTTGGTGCAATACAATAAGACCAATTGTTTCAGTGTGCGGAGCCCGAATCGAAGTGCAGAATTCCAAGCTGGCCCGTATATCTCACAGACGACTATCCAGCAAATGGCAGAAGACTCTATCCGCCCGATCCGGTCTATCCGCACACCCCAAAATTCGATCTTTGAAGACTGTCATCTCCGCATTTACTACGTGTTAACACATTGGTGGGACCGGTATTGTGACCCTGAGAGGACAGTAAGTTCTAGCGAAGGTAAGGAAGTCGGCGCGCCCCTGTGCGTCATTCAAACAGCAGTTAACGAGCAACGGGAGCCCCGTACTTTCGGAAACGGCCACCTCAGATTGTGATAACAACCCGCAACGGACATCGTCGAATATATTTACTTGATGACTGGAAGAAGAACTATCTATTCACTAAACACTTAGGGCGAACTTACGAGCAAAAAATCGAGCATAACTATAGACTCCATTCCAAATTTTGCACAAACCAACGCATAGGAAACGCTCCGGGAATCATTTTGACAAATCGACAACTTGTAAACATGTGTCATCATCCCGCGTCTGAATCACGTCGTTTTCCTGGACGTGAGTAGTCCCCCAAGGTGGTTAAGCGCGGGGGCCATTTCGGTACCCCAGAGT\n"
          ]
        }
      ]
    },
    {
      "cell_type": "markdown",
      "source": [
        "####**<font color=crimson>TASK 21.3 Commit to GitHub**</font>\n"
      ],
      "metadata": {
        "id": "dvtR4N7L6sZ_"
      }
    },
    {
      "cell_type": "markdown",
      "source": [
        "#<font color=blue>**P22.**</font> SeqIO – a function to parse( ) sequence files"
      ],
      "metadata": {
        "id": "bDJqtRiX3fEG"
      }
    },
    {
      "cell_type": "markdown",
      "source": [
        "####**TASK BP 22.1** Read in the practice dataset from Rosalind #9 and print the id of each sequence in the file."
      ],
      "metadata": {
        "id": "VKyMhLjx7nIo"
      }
    },
    {
      "cell_type": "code",
      "source": [
        "from Bio.SeqIO import parse\n",
        "\n",
        "for seq_record in parse(\"practice_9.txt\", \"fasta\"):\n",
        "    print (seq_record.id)\n",
        "    print (seq_record.seq)\n",
        "    print (len(seq_record.seq))\n",
        "    print (seq_record)"
      ],
      "metadata": {
        "colab": {
          "base_uri": "https://localhost:8080/"
        },
        "id": "xUi3JEoh7yJ6",
        "outputId": "5e6f3b83-47e7-4923-8141-5e9120a3317f"
      },
      "execution_count": null,
      "outputs": [
        {
          "output_type": "stream",
          "name": "stdout",
          "text": [
            "Rosalind_6404\n",
            "CCTGCGGAAGATCGGCACTAGAATAGCCAGAACCGTTTCTCTGAGGCTTCCGGCCTTCCCTCCCACTAATAATTCTGAGG\n",
            "80\n",
            "ID: Rosalind_6404\n",
            "Name: Rosalind_6404\n",
            "Description: Rosalind_6404\n",
            "Number of features: 0\n",
            "Seq('CCTGCGGAAGATCGGCACTAGAATAGCCAGAACCGTTTCTCTGAGGCTTCCGGC...AGG')\n",
            "Rosalind_5959\n",
            "CCATCGGTAGCGCATCCTTAGTCCAATTAAGTCCCTATCCAGGCGCTCCGCCGAAGGTCTATATCCATTTGTCAGCAGACACGC\n",
            "84\n",
            "ID: Rosalind_5959\n",
            "Name: Rosalind_5959\n",
            "Description: Rosalind_5959\n",
            "Number of features: 0\n",
            "Seq('CCATCGGTAGCGCATCCTTAGTCCAATTAAGTCCCTATCCAGGCGCTCCGCCGA...CGC')\n",
            "Rosalind_0808\n",
            "CCACCCTCGTGGTATGGCTAGGCATTCAGGAACCGGAGAACGCTTCAGACCAGCCCGGACTGGGAACCTGCGGGCAGTAGGTGGAAT\n",
            "87\n",
            "ID: Rosalind_0808\n",
            "Name: Rosalind_0808\n",
            "Description: Rosalind_0808\n",
            "Number of features: 0\n",
            "Seq('CCACCCTCGTGGTATGGCTAGGCATTCAGGAACCGGAGAACGCTTCAGACCAGC...AAT')\n"
          ]
        }
      ]
    },
    {
      "cell_type": "markdown",
      "source": [
        "#<font color=blue>**P23.**</font> SeqUtils.GC( ) – a function to compute GC content"
      ],
      "metadata": {
        "id": "SAjUYBpe3pwi"
      }
    },
    {
      "cell_type": "code",
      "metadata": {
        "colab": {
          "base_uri": "https://localhost:8080/"
        },
        "id": "2edb16a1",
        "outputId": "92cf73a0-2edb-4fd4-ed13-6c9ebc9700ed"
      },
      "source": [
        "#Given: At most 10 DNA strings in FASTA format (of length at most 1 kbp each).\n",
        "#Return: The ID of the string having the highest GC-content, followed by\n",
        "#the GC-content of that string. Rosalind allows for a default error of\n",
        "#0.001 in all decimal answers unless otherwise stated;\n",
        "#please see the note on absolute error below.\n",
        "\n",
        "from Bio.SeqIO import parse\n",
        "\n",
        "def calculate_gc_content(sequence):\n",
        "    \"\"\"Calculates the GC content of a DNA sequence.\"\"\"\n",
        "    g_count = sequence.count('G')\n",
        "    c_count = sequence.count('C')\n",
        "    total_length = len(sequence)\n",
        "    if total_length == 0:\n",
        "        return 0.0\n",
        "    return ((g_count + c_count) / total_length) * 100\n",
        "\n",
        "highest_gc_id = \"\"\n",
        "highest_gc_content = 0.0\n",
        "\n",
        "for seq_record in parse(\"/content/rosalind_gc (1).txt\", \"fasta\"):\n",
        "  gc_content = calculate_gc_content(seq_record.seq)\n",
        "  if gc_content > highest_gc_content:\n",
        "    highest_gc_content = gc_content\n",
        "    highest_gc_id = seq_record.id\n",
        "\n",
        "print(highest_gc_id)\n",
        "print(highest_gc_content)"
      ],
      "execution_count": null,
      "outputs": [
        {
          "output_type": "stream",
          "name": "stdout",
          "text": [
            "Rosalind_6061\n",
            "51.16822429906542\n"
          ]
        }
      ]
    }
  ]
}